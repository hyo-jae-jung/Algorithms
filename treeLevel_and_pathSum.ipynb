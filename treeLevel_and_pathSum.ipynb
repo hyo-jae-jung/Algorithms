{
 "cells": [
  {
   "cell_type": "code",
   "execution_count": 1,
   "metadata": {},
   "outputs": [],
   "source": [
    "from collections import deque \n",
    "\n",
    "class TreeNode:\n",
    "    def __init__(self, val):\n",
    "        self.val = val \n",
    "        self.left = None\n",
    "        self.right = None\n",
    "        \n",
    "root = TreeNode(7)\n",
    "node2n = TreeNode(-2)\n",
    "node5 = TreeNode(5)\n",
    "node3 = TreeNode(3)\n",
    "node15 = TreeNode(15)\n",
    "node8 = TreeNode(8)\n",
    "node5n = TreeNode(-1)\n",
    "\n",
    "root.left = node2n\n",
    "root.right = node5\n",
    "node2n.left = node3\n",
    "node2n.right = node15\n",
    "node5.left = node8\n",
    "node5.right = node5n\n"
   ]
  },
  {
   "cell_type": "code",
   "execution_count": 2,
   "metadata": {},
   "outputs": [
    {
     "name": "stdout",
     "output_type": "stream",
     "text": [
      "7 \n",
      "-2 5 \n",
      "3 15 8 -1 \n"
     ]
    }
   ],
   "source": [
    "def treeLevelPrint(node):\n",
    "    if node is None:\n",
    "        return \n",
    "    q = deque()\n",
    "    q.append(node) \n",
    "    while q:\n",
    "        level_count = len(q)\n",
    "        for _ in range(level_count):\n",
    "            crnt_node = q.popleft()\n",
    "            print(crnt_node.val, end=' ')\n",
    "            if crnt_node.left:\n",
    "                q.append(crnt_node.left) \n",
    "            if crnt_node.right:\n",
    "                q.append(crnt_node.right)\n",
    "        print()\n",
    "\n",
    "treeLevelPrint(root)"
   ]
  },
  {
   "cell_type": "code",
   "execution_count": 3,
   "metadata": {},
   "outputs": [],
   "source": [
    "from typing import List \n",
    "\n",
    "class pathSum:\n",
    "    def getPathes(self, root:TreeNode, targetSum:int)->List[List[int]]:\n",
    "        if root is None:\n",
    "            return [] \n",
    "\n",
    "        self._retList = []\n",
    "        self._recurPathSum(root,targetSum,[])\n",
    "\n",
    "        return self._retList\n",
    "\n",
    "    def _recurPathSum(self,node:TreeNode, targetSum:int, crntList:List[int]):\n",
    "        if node.left is None and node.right is None:\n",
    "            if node.val == targetSum:\n",
    "                crntList.append(node.val)\n",
    "                self._retList.append(crntList.copy())\n",
    "                crntList.pop()\n",
    "            return \n",
    "\n",
    "        newTargetSum = targetSum - node.val \n",
    "        if node.left:\n",
    "            crntList.append(node.val)\n",
    "            self._recurPathSum(node.left,newTargetSum,crntList)\n",
    "            crntList.pop()\n",
    "        if node.right:\n",
    "            crntList.append(node.val)\n",
    "            self._recurPathSum(node.right,newTargetSum,crntList)\n",
    "            crntList.pop()\n",
    "        return \n",
    "\n",
    "pathSum = pathSum()"
   ]
  },
  {
   "cell_type": "code",
   "execution_count": 4,
   "metadata": {},
   "outputs": [
    {
     "data": {
      "text/plain": [
       "[[7, -2, 15], [7, 5, 8]]"
      ]
     },
     "execution_count": 4,
     "metadata": {},
     "output_type": "execute_result"
    }
   ],
   "source": [
    "pathSum.getPathes(root,20)"
   ]
  }
 ],
 "metadata": {
  "kernelspec": {
   "display_name": "Python 3",
   "language": "python",
   "name": "python3"
  },
  "language_info": {
   "codemirror_mode": {
    "name": "ipython",
    "version": 3
   },
   "file_extension": ".py",
   "mimetype": "text/x-python",
   "name": "python",
   "nbconvert_exporter": "python",
   "pygments_lexer": "ipython3",
   "version": "3.8.10"
  },
  "orig_nbformat": 4,
  "vscode": {
   "interpreter": {
    "hash": "916dbcbb3f70747c44a77c7bcd40155683ae19c65e1c03b4aa3499c5328201f1"
   }
  }
 },
 "nbformat": 4,
 "nbformat_minor": 2
}
