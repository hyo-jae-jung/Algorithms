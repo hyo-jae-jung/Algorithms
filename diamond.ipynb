{
 "cells": [
  {
   "cell_type": "code",
   "execution_count": 1,
   "metadata": {},
   "outputs": [
    {
     "name": "stdout",
     "output_type": "stream",
     "text": [
      "            *            \n",
      "           ***           \n",
      "          *****          \n",
      "         *******         \n",
      "        *********        \n",
      "       ***********       \n",
      "      *************      \n",
      "     ***************     \n",
      "    *****************    \n",
      "   *******************   \n",
      "  *********************  \n",
      " *********************** \n",
      "*************************\n",
      " *********************** \n",
      "  *********************  \n",
      "   *******************   \n",
      "    *****************    \n",
      "     ***************     \n",
      "      *************      \n",
      "       ***********       \n",
      "        *********        \n",
      "         *******         \n",
      "          *****          \n",
      "           ***           \n",
      "            *            \n"
     ]
    }
   ],
   "source": [
    "n = 25\n",
    "l = list(range(n//2)) + [n//2] + list(range(n//2-1,-1,-1))\n",
    "for i in l:\n",
    "    answer = ''\n",
    "    cnt = 1+i*2\n",
    "    for j in l:\n",
    "        if cnt>0:\n",
    "            x = '*'\n",
    "        else:\n",
    "            x = ' '\n",
    "        if j%2 == 0:\n",
    "            answer = x + answer\n",
    "        else:\n",
    "            answer = answer + x\n",
    "        cnt-=1\n",
    "    print(answer)"
   ]
  }
 ],
 "metadata": {
  "kernelspec": {
   "display_name": "Python 3",
   "language": "python",
   "name": "python3"
  },
  "language_info": {
   "codemirror_mode": {
    "name": "ipython",
    "version": 3
   },
   "file_extension": ".py",
   "mimetype": "text/x-python",
   "name": "python",
   "nbconvert_exporter": "python",
   "pygments_lexer": "ipython3",
   "version": "3.8.10"
  },
  "orig_nbformat": 4,
  "vscode": {
   "interpreter": {
    "hash": "916dbcbb3f70747c44a77c7bcd40155683ae19c65e1c03b4aa3499c5328201f1"
   }
  }
 },
 "nbformat": 4,
 "nbformat_minor": 2
}
