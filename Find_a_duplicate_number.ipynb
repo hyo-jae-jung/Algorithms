{
 "cells": [
  {
   "cell_type": "code",
   "execution_count": 46,
   "metadata": {},
   "outputs": [
    {
     "name": "stdout",
     "output_type": "stream",
     "text": [
      "5\n"
     ]
    }
   ],
   "source": [
    "# 값이 같은 원소 찾는 문제\n",
    "\n",
    "arr = [5,4,3,2,1,5]\n",
    "\n",
    "arr_length = len(arr)\n",
    "i = 0\n",
    "while i < arr_length:\n",
    "    if arr[abs(arr[i])] > 0:\n",
    "        arr[abs(arr[i])]*=-1\n",
    "    else:\n",
    "        print(abs(arr[i]))\n",
    "        break\n",
    "    i+=1\n",
    "\n",
    "# 이렇게 하면 시간복잡도 O(n), 공간복잡도 O(1)으로 문제 해결\n",
    "# 투 포인터는 O(n**2), 바이너리 서치는 O(nlogn), 새로운 array에 원소 카운팅은 시간복잡도 O(n), 공간복잡도 O(n)\n",
    "# linked list로 포인트를 두개 받는 노드를 찾는 방법으로 문제를 해결 할 수도 있음. 이건 나중에"
   ]
  }
 ],
 "metadata": {
  "kernelspec": {
   "display_name": "Python 3",
   "language": "python",
   "name": "python3"
  },
  "language_info": {
   "codemirror_mode": {
    "name": "ipython",
    "version": 3
   },
   "file_extension": ".py",
   "mimetype": "text/x-python",
   "name": "python",
   "nbconvert_exporter": "python",
   "pygments_lexer": "ipython3",
   "version": "3.8.10"
  },
  "orig_nbformat": 4,
  "vscode": {
   "interpreter": {
    "hash": "31f2aee4e71d21fbe5cf8b01ff0e069b9275f58929596ceb00d14d90e3e16cd6"
   }
  }
 },
 "nbformat": 4,
 "nbformat_minor": 2
}
