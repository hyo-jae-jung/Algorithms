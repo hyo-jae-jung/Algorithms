{
 "cells": [
  {
   "cell_type": "code",
   "execution_count": 40,
   "metadata": {},
   "outputs": [],
   "source": [
    "class TreeNode:\n",
    "    def __init__(self, val):\n",
    "        self.val = val\n",
    "        self.left = None \n",
    "        self.right = None \n"
   ]
  },
  {
   "cell_type": "code",
   "execution_count": 41,
   "metadata": {},
   "outputs": [],
   "source": [
    "node1 = TreeNode(1)\n",
    "node2 = TreeNode(2)\n",
    "node3 = TreeNode(3)\n",
    "node4 = TreeNode(4)\n",
    "node5 = TreeNode(5)\n",
    "node6 = TreeNode(6)\n",
    "node7 = TreeNode(7)\n",
    "\n",
    "node1.left = node2 \n",
    "node1.right = node3 \n",
    "node2.left = node4 \n",
    "node2.right = node5 \n",
    "node3.left = node6 \n",
    "node3.right = node7 "
   ]
  },
  {
   "cell_type": "code",
   "execution_count": 52,
   "metadata": {},
   "outputs": [
    {
     "name": "stdout",
     "output_type": "stream",
     "text": [
      "1 2 4 5 3 6 7 \n",
      "4 2 5 1 6 3 7 \n",
      "4 5 2 6 7 3 1 "
     ]
    }
   ],
   "source": [
    "def recursivePreorder(node):\n",
    "    if node is None:\n",
    "        return \n",
    "    print(node.val, end=' ')\n",
    "    recursivePreorder(node.left)\n",
    "    recursivePreorder(node.right)\n",
    "    \n",
    "def recursiveInorder(node):\n",
    "    if node is None:\n",
    "        return \n",
    "    recursiveInorder(node.left)\n",
    "    print(node.val, end=' ')\n",
    "    recursiveInorder(node.right)\n",
    "\n",
    "def recursivePostorder(node):\n",
    "    if node is None:\n",
    "        return \n",
    "    recursivePostorder(node.left)\n",
    "    recursivePostorder(node.right)\n",
    "    print(node.val, end=' ')\n",
    "\n",
    "recursivePreorder(node1)\n",
    "print()\n",
    "recursiveInorder(node1)\n",
    "print()\n",
    "recursivePostorder(node1)"
   ]
  },
  {
   "cell_type": "code",
   "execution_count": 82,
   "metadata": {},
   "outputs": [
    {
     "name": "stdout",
     "output_type": "stream",
     "text": [
      "1 2 4 5 3 6 7 \n",
      "4 2 5 1 6 3 7 \n",
      "4 5 2 6 7 3 1 "
     ]
    }
   ],
   "source": [
    "def iterativePreorder(node):\n",
    "    if node is None:\n",
    "        return \n",
    "    stack = []\n",
    "    stack.append(node)\n",
    "    while stack:\n",
    "        pop_node = stack.pop()\n",
    "        print(pop_node.val, end=' ')\n",
    "        if pop_node.right:\n",
    "            stack.append(pop_node.right)\n",
    "        if pop_node.left:\n",
    "            stack.append(pop_node.left)\n",
    "\n",
    "def iterativeInorder(node):\n",
    "    crnt_node = node \n",
    "    stack = []\n",
    "    while True:\n",
    "        if crnt_node:\n",
    "            stack.append(crnt_node)\n",
    "            crnt_node = crnt_node.left\n",
    "\n",
    "        elif stack:\n",
    "            crnt_node = stack.pop()\n",
    "            print(crnt_node.val, end=' ')\n",
    "            crnt_node = crnt_node.right\n",
    "            \n",
    "        else:\n",
    "            break\n",
    "\n",
    "def iterativePostorder(node):\n",
    "  stack = []\n",
    "  last_visit_node = None\n",
    "  crnt_node = node\n",
    "  while True:\n",
    "    if crnt_node:\n",
    "      stack.append(crnt_node)\n",
    "      crnt_node = crnt_node.left\n",
    "    \n",
    "    elif stack:\n",
    "      peek_node = stack[-1]\n",
    "      if peek_node.right and last_visit_node != peek_node.right:\n",
    "        crnt_node = peek_node.right\n",
    "      else:\n",
    "        print(peek_node.val, end=' ')\n",
    "        last_visit_node = stack.pop()\n",
    "        \n",
    "    else:\n",
    "      break\n",
    "\n",
    "iterativePreorder(node1)\n",
    "print()\n",
    "iterativeInorder(node1)\n",
    "print()\n",
    "iterativePostorder(node1)"
   ]
  },
  {
   "cell_type": "code",
   "execution_count": 56,
   "metadata": {},
   "outputs": [],
   "source": [
    "from anytree import Node, RenderTree\n",
    "udo = Node(\"Udo\")\n",
    "marc = Node(\"Marc\", parent=udo)\n",
    "lian = Node(\"Lian\", parent=marc)\n",
    "dan = Node(\"Dan\", parent=udo)\n",
    "jet = Node(\"Jet\", parent=dan)\n",
    "jan = Node(\"Jan\", parent=dan)\n",
    "joe = Node(\"Joe\", parent=dan)\n"
   ]
  }
 ],
 "metadata": {
  "kernelspec": {
   "display_name": "Python 3",
   "language": "python",
   "name": "python3"
  },
  "language_info": {
   "codemirror_mode": {
    "name": "ipython",
    "version": 3
   },
   "file_extension": ".py",
   "mimetype": "text/x-python",
   "name": "python",
   "nbconvert_exporter": "python",
   "pygments_lexer": "ipython3",
   "version": "3.8.10"
  },
  "orig_nbformat": 4,
  "vscode": {
   "interpreter": {
    "hash": "916dbcbb3f70747c44a77c7bcd40155683ae19c65e1c03b4aa3499c5328201f1"
   }
  }
 },
 "nbformat": 4,
 "nbformat_minor": 2
}
